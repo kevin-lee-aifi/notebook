{
 "cells": [
  {
   "cell_type": "code",
   "execution_count": 8,
   "id": "30f11c04-2bea-415f-93f7-1ebe4a74ecad",
   "metadata": {},
   "outputs": [],
   "source": [
    "library(ggplot2)\n",
    "library(dplyr)\n",
    "library(tidyr)\n",
    "library(Seurat)\n",
    "\n",
    "wdir <- \"/home/workspace/notebook/data/GSE196684_bone_marrow_organoids\"\n",
    "\n",
    "setwd(wdir)"
   ]
  },
  {
   "cell_type": "code",
   "execution_count": 16,
   "id": "c43ff95d-2cac-43d4-bf51-2bc539241f14",
   "metadata": {},
   "outputs": [
    {
     "name": "stdout",
     "output_type": "stream",
     "text": [
      "<list_of<quosure>>\n",
      "\n",
      "[[1]]\n",
      "\u001b[1m<quosure>\u001b[22m\n",
      "expr: \u001b[39m^d\u001b[39m\n",
      "env:  global\n",
      "\n",
      " chr \"org_comp\"\n",
      "NULL\n"
     ]
    }
   ],
   "source": [
    "d <- load('GSE196684_Integrated_VEGFA_C_R_Object.rds')\n",
    "\n",
    "print(vars(d))\n",
    "print(str(d))"
   ]
  },
  {
   "cell_type": "code",
   "execution_count": 4,
   "id": "edb991b5-4961-4af3-9f5c-aba32bb2a7aa",
   "metadata": {},
   "outputs": [
    {
     "data": {
      "text/html": [
       "TRUE"
      ],
      "text/latex": [
       "TRUE"
      ],
      "text/markdown": [
       "TRUE"
      ],
      "text/plain": [
       "[1] TRUE"
      ]
     },
     "metadata": {},
     "output_type": "display_data"
    },
    {
     "data": {
      "text/html": [
       "149842889"
      ],
      "text/latex": [
       "149842889"
      ],
      "text/markdown": [
       "149842889"
      ],
      "text/plain": [
       "[1] 149842889"
      ]
     },
     "metadata": {},
     "output_type": "display_data"
    }
   ],
   "source": [
    "# Check if file exists and get info\n",
    "file_path <- \"/home/workspace/notebook/data/GSE196684_bone_marrow_organoids/GSM5898130_VEGFAC_analysis.rds\"\n",
    "file.exists(file_path)\n",
    "file.info(file_path)$size  # Check file size - should be > 0"
   ]
  },
  {
   "cell_type": "code",
   "execution_count": 5,
   "id": "17857181-2d71-4fe5-810f-3b0661b78564",
   "metadata": {},
   "outputs": [
    {
     "data": {
      "text/plain": [
       "<list_of<quosure>>\n",
       "\n",
       "[[1]]\n",
       "\u001b[1m<quosure>\u001b[22m\n",
       "expr: \u001b[39m^d\u001b[39m\n",
       "env:  global\n"
      ]
     },
     "metadata": {},
     "output_type": "display_data"
    }
   ],
   "source": [
    "d <- load(file_path)\n",
    "\n",
    "vars(d)"
   ]
  },
  {
   "cell_type": "code",
   "execution_count": 18,
   "id": "4d780cfd-84c5-4580-bcf3-c1b642f10706",
   "metadata": {},
   "outputs": [
    {
     "name": "stdout",
     "output_type": "stream",
     "text": [
      "[1] \"Successfully loaded with load()\"\n"
     ]
    },
    {
     "data": {
      "text/html": [
       "<style>\n",
       ".list-inline {list-style: none; margin:0; padding: 0}\n",
       ".list-inline>li {display: inline-block}\n",
       ".list-inline>li:not(:last-child)::after {content: \"\\00b7\"; padding: 0 .5ex}\n",
       "</style>\n",
       "<ol class=list-inline><li>'VEGFA'</li><li>'VEGFAC_comp'</li><li>'con'</li><li>'data'</li><li>'file_path'</li><li>'header'</li><li>'obj1'</li><li>'obj2'</li><li>'obj3'</li><li>'ojb'</li><li>'org_comp'</li><li>'seurat'</li><li>'wdir'</li></ol>\n"
      ],
      "text/latex": [
       "\\begin{enumerate*}\n",
       "\\item 'VEGFA'\n",
       "\\item 'VEGFAC\\_comp'\n",
       "\\item 'con'\n",
       "\\item 'data'\n",
       "\\item 'file\\_path'\n",
       "\\item 'header'\n",
       "\\item 'obj1'\n",
       "\\item 'obj2'\n",
       "\\item 'obj3'\n",
       "\\item 'ojb'\n",
       "\\item 'org\\_comp'\n",
       "\\item 'seurat'\n",
       "\\item 'wdir'\n",
       "\\end{enumerate*}\n"
      ],
      "text/markdown": [
       "1. 'VEGFA'\n",
       "2. 'VEGFAC_comp'\n",
       "3. 'con'\n",
       "4. 'data'\n",
       "5. 'file_path'\n",
       "6. 'header'\n",
       "7. 'obj1'\n",
       "8. 'obj2'\n",
       "9. 'obj3'\n",
       "10. 'ojb'\n",
       "11. 'org_comp'\n",
       "12. 'seurat'\n",
       "13. 'wdir'\n",
       "\n",
       "\n"
      ],
      "text/plain": [
       " [1] \"VEGFA\"       \"VEGFAC_comp\" \"con\"         \"data\"        \"file_path\"  \n",
       " [6] \"header\"      \"obj1\"        \"obj2\"        \"obj3\"        \"ojb\"        \n",
       "[11] \"org_comp\"    \"seurat\"      \"wdir\"       "
      ]
     },
     "metadata": {},
     "output_type": "display_data"
    },
    {
     "name": "stderr",
     "output_type": "stream",
     "text": [
      "Warning message in read.table(file_path, header = TRUE, sep = \"\\t\"):\n",
      "“line 3 appears to contain embedded nulls”\n",
      "Warning message in read.table(file_path, header = TRUE, sep = \"\\t\"):\n",
      "“line 4 appears to contain embedded nulls”\n",
      "Warning message in read.table(file_path, header = TRUE, sep = \"\\t\"):\n",
      "“line 5 appears to contain embedded nulls”\n",
      "Warning message in scan(file = file, what = what, sep = sep, quote = quote, dec = dec, :\n",
      "“embedded nul(s) found in input”\n"
     ]
    },
    {
     "name": "stdout",
     "output_type": "stream",
     "text": [
      "[1] \"Successfully read as table\"\n"
     ]
    },
    {
     "data": {
      "text/html": [
       "<table class=\"dataframe\">\n",
       "<caption>A data.frame: 6 × 1</caption>\n",
       "<thead>\n",
       "\t<tr><th></th><th scope=col>RDX3</th></tr>\n",
       "\t<tr><th></th><th scope=col>&lt;chr&gt;</th></tr>\n",
       "</thead>\n",
       "<tbody>\n",
       "\t<tr><th scope=row>1</th><td>X</td></tr>\n",
       "\t<tr><th scope=row>2</th><td> </td></tr>\n",
       "\t<tr><th scope=row>3</th><td> </td></tr>\n",
       "\t<tr><th scope=row>4</th><td> </td></tr>\n",
       "\t<tr><th scope=row>5</th><td> </td></tr>\n",
       "\t<tr><th scope=row>6</th><td> </td></tr>\n",
       "</tbody>\n",
       "</table>\n"
      ],
      "text/latex": [
       "A data.frame: 6 × 1\n",
       "\\begin{tabular}{r|l}\n",
       "  & RDX3\\\\\n",
       "  & <chr>\\\\\n",
       "\\hline\n",
       "\t1 & X\\\\\n",
       "\t2 &  \\\\\n",
       "\t3 &  \\\\\n",
       "\t4 &  \\\\\n",
       "\t5 &  \\\\\n",
       "\t6 &  \\\\\n",
       "\\end{tabular}\n"
      ],
      "text/markdown": [
       "\n",
       "A data.frame: 6 × 1\n",
       "\n",
       "| <!--/--> | RDX3 &lt;chr&gt; |\n",
       "|---|---|\n",
       "| 1 | X |\n",
       "| 2 | <!----> |\n",
       "| 3 | <!----> |\n",
       "| 4 | <!----> |\n",
       "| 5 | <!----> |\n",
       "| 6 | <!----> |\n",
       "\n"
      ],
      "text/plain": [
       "  RDX3\n",
       "1 X   \n",
       "2     \n",
       "3     \n",
       "4     \n",
       "5     \n",
       "6     "
      ]
     },
     "metadata": {},
     "output_type": "display_data"
    }
   ],
   "source": [
    "# If it's actually a different R format, try load()\n",
    "tryCatch({\n",
    "    load(file_path)\n",
    "    print(\"Successfully loaded with load()\")\n",
    "    ls()  # Show what objects were loaded\n",
    "}, error = function(e) print(paste(\"load() failed:\", e$message)))\n",
    "\n",
    "# If it's a text file (CSV, TSV, etc.)\n",
    "tryCatch({\n",
    "    data <- read.table(file_path, header = TRUE, sep = \"\\t\")\n",
    "    print(\"Successfully read as table\")\n",
    "    head(data)\n",
    "}, error = function(e) print(paste(\"read.table() failed:\", e$message)))"
   ]
  }
 ],
 "metadata": {
  "kernelspec": {
   "display_name": "R (notebook)",
   "language": "R",
   "name": "notebook_r_env"
  },
  "language_info": {
   "codemirror_mode": "r",
   "file_extension": ".r",
   "mimetype": "text/x-r-source",
   "name": "R",
   "pygments_lexer": "r",
   "version": "4.3.3"
  }
 },
 "nbformat": 4,
 "nbformat_minor": 5
}
