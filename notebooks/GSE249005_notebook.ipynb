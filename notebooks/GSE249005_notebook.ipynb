{
 "cells": [
  {
   "cell_type": "code",
   "execution_count": 1,
   "id": "30f11c04-2bea-415f-93f7-1ebe4a74ecad",
   "metadata": {},
   "outputs": [
    {
     "data": {
      "text/plain": [
       "['/home/workspace/notebook/data/GSE249005_bone_marrow_organoids/GSM7924557_BMO5_features.tsv.gz',\n",
       " '/home/workspace/notebook/data/GSE249005_bone_marrow_organoids/GSM7924553_BMO1_features.tsv.gz',\n",
       " '/home/workspace/notebook/data/GSE249005_bone_marrow_organoids/GSM7924556_BMO4_features.tsv.gz',\n",
       " '/home/workspace/notebook/data/GSE249005_bone_marrow_organoids/GSM7924556_BMO4_matrix.mtx.gz',\n",
       " '/home/workspace/notebook/data/GSE249005_bone_marrow_organoids/GSM7924556_BMO4_barcodes.tsv.gz',\n",
       " '/home/workspace/notebook/data/GSE249005_bone_marrow_organoids/GSM7924557_BMO5_barcodes.tsv.gz',\n",
       " '/home/workspace/notebook/data/GSE249005_bone_marrow_organoids/GSM7924554_BMO2_barcodes.tsv.gz',\n",
       " '/home/workspace/notebook/data/GSE249005_bone_marrow_organoids/GSM7924554_BMO2_matrix.mtx.gz',\n",
       " '/home/workspace/notebook/data/GSE249005_bone_marrow_organoids/GSM7924555_BMO3_matrix.mtx.gz',\n",
       " '/home/workspace/notebook/data/GSE249005_bone_marrow_organoids/GSM7924557_BMO5_matrix.mtx.gz',\n",
       " '/home/workspace/notebook/data/GSE249005_bone_marrow_organoids/GSM7924554_BMO2_features.tsv.gz',\n",
       " '/home/workspace/notebook/data/GSE249005_bone_marrow_organoids/GSM7924553_BMO1_barcodes.tsv.gz',\n",
       " '/home/workspace/notebook/data/GSE249005_bone_marrow_organoids/GSM7924555_BMO3_barcodes.tsv.gz',\n",
       " '/home/workspace/notebook/data/GSE249005_bone_marrow_organoids/GSM7924553_BMO1_matrix.mtx.gz',\n",
       " '/home/workspace/notebook/data/GSE249005_bone_marrow_organoids/GSM7924555_BMO3_features.tsv.gz']"
      ]
     },
     "execution_count": 1,
     "metadata": {},
     "output_type": "execute_result"
    }
   ],
   "source": [
    "import sys\n",
    "\n",
    "sys.path.insert(0, '/home/workspace/notebook')\n",
    "\n",
    "from utils import *\n",
    "\n",
    "paths = \"/home/workspace/notebook/data/GSE249005_bone_marrow_organoids\"\n",
    "\n",
    "glob.glob(os.path.join(paths, \"*.gz\"))"
   ]
  },
  {
   "cell_type": "code",
   "execution_count": 2,
   "id": "6a578a1d-c662-446a-a3c1-4bd2915085e8",
   "metadata": {},
   "outputs": [
    {
     "name": "stdout",
     "output_type": "stream",
     "text": [
      "AnnData object with n_obs × n_vars = 5014 × 20639\n",
      "    obs: 'id', 'n_genes_by_counts', 'log1p_n_genes_by_counts', 'total_counts', 'log1p_total_counts', 'pct_counts_in_top_20_genes', 'total_counts_mt', 'log1p_total_counts_mt', 'pct_counts_mt', 'total_counts_ribo', 'log1p_total_counts_ribo', 'pct_counts_ribo', 'total_counts_hb', 'log1p_total_counts_hb', 'pct_counts_hb', 'total_counts_ig', 'log1p_total_counts_ig', 'pct_counts_ig', 'outlier'\n",
      "    var: 'gene_ids', 'feature_types', 'mt', 'ribo', 'hb', 'ig', 'n_cells_by_counts', 'mean_counts', 'log1p_mean_counts', 'pct_dropout_by_counts', 'total_counts', 'log1p_total_counts'\n",
      "AnnData object with n_obs × n_vars = 9369 × 20639\n",
      "    obs: 'id', 'n_genes_by_counts', 'log1p_n_genes_by_counts', 'total_counts', 'log1p_total_counts', 'pct_counts_in_top_20_genes', 'total_counts_mt', 'log1p_total_counts_mt', 'pct_counts_mt', 'total_counts_ribo', 'log1p_total_counts_ribo', 'pct_counts_ribo', 'total_counts_hb', 'log1p_total_counts_hb', 'pct_counts_hb', 'total_counts_ig', 'log1p_total_counts_ig', 'pct_counts_ig', 'outlier'\n",
      "    var: 'gene_ids', 'feature_types', 'mt', 'ribo', 'hb', 'ig', 'n_cells_by_counts', 'mean_counts', 'log1p_mean_counts', 'pct_dropout_by_counts', 'total_counts', 'log1p_total_counts'\n",
      "AnnData object with n_obs × n_vars = 5169 × 20639\n",
      "    obs: 'id', 'n_genes_by_counts', 'log1p_n_genes_by_counts', 'total_counts', 'log1p_total_counts', 'pct_counts_in_top_20_genes', 'total_counts_mt', 'log1p_total_counts_mt', 'pct_counts_mt', 'total_counts_ribo', 'log1p_total_counts_ribo', 'pct_counts_ribo', 'total_counts_hb', 'log1p_total_counts_hb', 'pct_counts_hb', 'total_counts_ig', 'log1p_total_counts_ig', 'pct_counts_ig', 'outlier'\n",
      "    var: 'gene_ids', 'feature_types', 'mt', 'ribo', 'hb', 'ig', 'n_cells_by_counts', 'mean_counts', 'log1p_mean_counts', 'pct_dropout_by_counts', 'total_counts', 'log1p_total_counts'\n",
      "AnnData object with n_obs × n_vars = 6793 × 20639\n",
      "    obs: 'id', 'n_genes_by_counts', 'log1p_n_genes_by_counts', 'total_counts', 'log1p_total_counts', 'pct_counts_in_top_20_genes', 'total_counts_mt', 'log1p_total_counts_mt', 'pct_counts_mt', 'total_counts_ribo', 'log1p_total_counts_ribo', 'pct_counts_ribo', 'total_counts_hb', 'log1p_total_counts_hb', 'pct_counts_hb', 'total_counts_ig', 'log1p_total_counts_ig', 'pct_counts_ig', 'outlier'\n",
      "    var: 'gene_ids', 'feature_types', 'mt', 'ribo', 'hb', 'ig', 'n_cells_by_counts', 'mean_counts', 'log1p_mean_counts', 'pct_dropout_by_counts', 'total_counts', 'log1p_total_counts'\n",
      "AnnData object with n_obs × n_vars = 8188 × 20639\n",
      "    obs: 'id', 'n_genes_by_counts', 'log1p_n_genes_by_counts', 'total_counts', 'log1p_total_counts', 'pct_counts_in_top_20_genes', 'total_counts_mt', 'log1p_total_counts_mt', 'pct_counts_mt', 'total_counts_ribo', 'log1p_total_counts_ribo', 'pct_counts_ribo', 'total_counts_hb', 'log1p_total_counts_hb', 'pct_counts_hb', 'total_counts_ig', 'log1p_total_counts_ig', 'pct_counts_ig', 'outlier'\n",
      "    var: 'gene_ids', 'feature_types', 'mt', 'ribo', 'hb', 'ig', 'n_cells_by_counts', 'mean_counts', 'log1p_mean_counts', 'pct_dropout_by_counts', 'total_counts', 'log1p_total_counts'\n"
     ]
    }
   ],
   "source": [
    "adata1 = sc.read_10x_mtx(paths, prefix='GSM7924553_BMO1_')\n",
    "adata2 = sc.read_10x_mtx(paths, prefix='GSM7924554_BMO2_')\n",
    "adata3 = sc.read_10x_mtx(paths, prefix='GSM7924555_BMO3_')\n",
    "adata4 = sc.read_10x_mtx(paths, prefix='GSM7924556_BMO4_')\n",
    "adata5 = sc.read_10x_mtx(paths, prefix='GSM7924557_BMO5_')\n",
    "\n",
    "labels = [f'BMO{n}' for n in range(1, 6)]\n",
    "\n",
    "adatas = [adata1, adata2, adata3, adata4, adata5]\n",
    "\n",
    "for adata, label in zip(adatas, labels):\n",
    "    adata.obs['id'] = label\n",
    "\n",
    "    adata.var[\"mt\"] = adata.var_names.str.startswith(\"MT-\")\n",
    "    adata.var[\"ribo\"] = adata.var_names.str.startswith((\"RPS\", \"RPL\"))\n",
    "    adata.var[\"hb\"] = adata.var_names.str.contains(\"^HB[^(P)]\")\n",
    "    adata.var[\"ig\"] = adata.var_names.str.startswith(\"IG\")\n",
    "\n",
    "    sc.pp.calculate_qc_metrics(adata, qc_vars=[\"mt\", \"ribo\", \"hb\", \"ig\"], inplace=True, percent_top=[20], log1p=True)\n",
    "\n",
    "    adata.obs[\"outlier\"] = (\n",
    "        is_outlier(adata, \"log1p_total_counts\", 5)                # calling outlier cells with log1p_total_counts greater than 5 MAD's\n",
    "        | is_outlier(adata, \"log1p_n_genes_by_counts\", 5)         # calling outlier cells with log1p_n_genes_by_counts greater than 5 MAD's\n",
    "        | is_outlier(adata, \"pct_counts_in_top_20_genes\", 5)      # calling outlier cells with pct_counts_in_top_20_genes greater than 5 MAD's\n",
    "        | is_outlier(adata, \"pct_counts_mt\", 5)\n",
    "        | is_outlier(adata, \"pct_counts_ribo\", 5)\n",
    "        | is_outlier(adata, \"pct_counts_hb\", 5)\n",
    "        | is_outlier(adata, \"pct_counts_ig\", 5)\n",
    "    )\n",
    "    \n",
    "    print(adata)\n",
    "\n",
    "# adata = ad.concat(adatas, join='outer', merge='same')"
   ]
  },
  {
   "cell_type": "code",
   "execution_count": null,
   "id": "d6b9ac1f-c951-4017-85aa-2e5b0c7671eb",
   "metadata": {},
   "outputs": [],
   "source": [
    "for adata in adatas:\n",
    "    adata.var[\"mt\"] = adata.var_names.str.startswith(\"MT-\")\n",
    "    adata.var[\"ribo\"] = adata.var_names.str.startswith((\"RPS\", \"RPL\"))\n",
    "    adata.var[\"hb\"] = adata.var_names.str.contains(\"^HB[^(P)]\")\n",
    "    adata.var[\"ig\"] = adata.var_names.str.startswith(\"IG\")\n",
    "\n",
    "    sc.pp.calculate_qc_metrics(\n",
    "        adata, qc_vars=[\"mt\", \"ribo\", \"hb\", \"ig\"], inplace=True, log1p=True\n",
    "    )\n",
    "\n",
    "    # sc.pl.violin(adata, \"pct_counts_mt\")\n",
    "    # sc.pl.violin(adata, \"pct_counts_ig\")"
   ]
  },
  {
   "cell_type": "code",
   "execution_count": null,
   "id": "d7a3ff67-a876-4388-b604-6bf48d2e5d2e",
   "metadata": {},
   "outputs": [],
   "source": [
    "for adata in adatas:\n",
    "    adata.layers[\"counts\"] = adata.X.copy()\n",
    "    sc.pp.normalize_total(adata)\n",
    "    sc.pp.log1p(adata)\n",
    "    sc.tl.pca(adata)\n",
    "    sc.pp.neighbors(adata)\n",
    "    sc.tl.umap(adata)\n",
    "    sc.tl.leiden(adata, resolution=1, flavor=\"igraph\", n_iterations=4)\n",
    "\n",
    "    sc.pl.umap(adata, color=[\"leiden\"])"
   ]
  }
 ],
 "metadata": {
  "kernelspec": {
   "display_name": "Python (notebook)",
   "language": "python",
   "name": "notebook_py_env"
  },
  "language_info": {
   "codemirror_mode": {
    "name": "ipython",
    "version": 3
   },
   "file_extension": ".py",
   "mimetype": "text/x-python",
   "name": "python",
   "nbconvert_exporter": "python",
   "pygments_lexer": "ipython3",
   "version": "3.9.23"
  }
 },
 "nbformat": 4,
 "nbformat_minor": 5
}
