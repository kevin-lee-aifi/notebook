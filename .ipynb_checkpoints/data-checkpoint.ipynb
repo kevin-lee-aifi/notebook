{
 "cells": [
  {
   "cell_type": "code",
   "execution_count": 5,
   "id": "ab82ddbd-61ea-4619-bdc2-f314cce6eae6",
   "metadata": {},
   "outputs": [],
   "source": [
    "import pandas as pd\n",
    "import glob\n",
    "import os\n",
    "\n",
    "dir = \"/home/workspace/notebook/data/GSE166895_fetal_hematopoiesis\"\n",
    "\n",
    "files = glob.glob(os.path.join(dir, \"*.csv.gz\"))\n",
    "\n",
    "df = pd.read_csv('/home/workspace/notebook/data/GSE166895_fetal_hematopoiesis/GSE166895_Raw_mRNA_CD34Sinu_FLFBM.csv.gz', compression=\"gzip\")"
   ]
  },
  {
   "cell_type": "code",
   "execution_count": null,
   "id": "c898bc66-3693-462e-a1ad-0a28bd48ec93",
   "metadata": {},
   "outputs": [],
   "source": []
  }
 ],
 "metadata": {
  "kernelspec": {
   "display_name": "Python (mm_py_env)",
   "language": "python",
   "name": "tissdiss_py_env"
  },
  "language_info": {
   "codemirror_mode": {
    "name": "ipython",
    "version": 3
   },
   "file_extension": ".py",
   "mimetype": "text/x-python",
   "name": "python",
   "nbconvert_exporter": "python",
   "pygments_lexer": "ipython3",
   "version": "3.9.22"
  }
 },
 "nbformat": 4,
 "nbformat_minor": 5
}
